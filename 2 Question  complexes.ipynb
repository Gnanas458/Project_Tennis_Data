{
 "cells": [
  {
   "cell_type": "code",
   "execution_count": null,
   "metadata": {},
   "outputs": [],
   "source": [
    "import requests\n",
    "\n",
    "url = \"https://api.sportradar.com/tennis/trial/v3/en/complexes.json?api_key=yymk81Bo0odf7J5MSnJ6rDrICbfCUjaQkfmVM7bc\"\n",
    "\n",
    "headers = {\"accept\": \"application/json\"}\n",
    "\n",
    "response = requests.get(url, headers=headers)\n",
    "\n",
    "print(response.text)\n",
    "\n"
   ]
  },
  {
   "cell_type": "code",
   "execution_count": null,
   "metadata": {},
   "outputs": [],
   "source": [
    "import json\n",
    "data = json.loads(response.text)\n",
    "data"
   ]
  },
  {
   "cell_type": "code",
   "execution_count": null,
   "metadata": {},
   "outputs": [],
   "source": [
    "import json\n",
    "import pandas as pd\n",
    "df_complexes = pd.json_normalize(data[\"complexes\"],sep=\"_\")\n",
    "df_complexes"
   ]
  },
  {
   "cell_type": "code",
   "execution_count": null,
   "metadata": {},
   "outputs": [],
   "source": [
    "df_complexes = df_complexes.rename(columns={\"id\": \"complex_id\", \"name\": \"complex_name\"})\n",
    "df_complexes"
   ]
  },
  {
   "cell_type": "code",
   "execution_count": null,
   "metadata": {},
   "outputs": [],
   "source": [
    "df_complexes = df_complexes[[\"complex_id\", \"complex_name\" ]]\n",
    "df_complexes"
   ]
  },
  {
   "cell_type": "code",
   "execution_count": null,
   "metadata": {},
   "outputs": [],
   "source": [
    "# Extract Venues Data (handling cases where 'venues' key might be missing)\n",
    "venues_data = [\n",
    "    {\n",
    "        \"venue_id\": v[\"id\"],\n",
    "        \"venue_name\": v[\"name\"],\n",
    "        \"city_name\": v[\"city_name\"],\n",
    "        \"country_name\": v[\"country_name\"],\n",
    "        \"country_code\": v[\"country_code\"],\n",
    "        \"timezone\": v[\"timezone\"],\n",
    "        \"complex_id\": c[\"id\"]  # Foreign Key reference\n",
    "    }\n",
    "    for c in data[\"complexes\"] if \"venues\" in c\n",
    "    for v in c[\"venues\"]\n",
    "]\n",
    "df_venues = pd.DataFrame(venues_data)\n",
    "\n",
    "df_venues"
   ]
  },
  {
   "cell_type": "code",
   "execution_count": null,
   "metadata": {},
   "outputs": [],
   "source": [
    "# Remove duplicates from Complexes DataFrame\n",
    "df_complexes = df_complexes.drop_duplicates(subset=[\"complex_id\"])\n",
    "\n",
    "# Remove duplicates from Venues DataFrame\n",
    "df_venues = df_venues.drop_duplicates(subset=[\"venue_id\"])"
   ]
  },
  {
   "cell_type": "code",
   "execution_count": null,
   "metadata": {},
   "outputs": [],
   "source": [
    "df_complexes"
   ]
  },
  {
   "cell_type": "code",
   "execution_count": null,
   "metadata": {},
   "outputs": [],
   "source": [
    "df_venues"
   ]
  },
  {
   "cell_type": "code",
   "execution_count": null,
   "metadata": {},
   "outputs": [],
   "source": [
    "import mysql.connector\n",
    "\n",
    "# Establish connection to MySQL \n",
    "conn = mysql.connector.connect(\n",
    "    host=\"localhost\",\n",
    "    user=\"root\",\n",
    "    password=\"240996\",\n",
    "    database=\"Tennis_project\"\n",
    ")\n",
    "\n",
    "cursor = conn.cursor()\n",
    "\n",
    "create_complexes_table = \"\"\"\n",
    "CREATE TABLE IF NOT EXISTS Complexes (\n",
    "    complex_id VARCHAR(50) PRIMARY KEY,\n",
    "    complex_name VARCHAR(100) NOT NULL\n",
    ");\n",
    "\"\"\"\n",
    "cursor.execute(create_complexes_table)\n",
    "\n",
    "# Create Venues table with foreign key constraint\n",
    "create_venues_table = \"\"\"\n",
    "CREATE TABLE IF NOT EXISTS Venues (\n",
    "    venue_id VARCHAR(50) PRIMARY KEY,\n",
    "    venue_name VARCHAR(100) NOT NULL,\n",
    "    city_name VARCHAR(100) NOT NULL,\n",
    "    country_name VARCHAR(100) NOT NULL,\n",
    "    country_code CHAR(3) NOT NULL,\n",
    "    timezone VARCHAR(100) NOT NULL,\n",
    "    complex_id VARCHAR(50),\n",
    "    FOREIGN KEY (complex_id) REFERENCES Complexes(complex_id) ON DELETE CASCADE\n",
    ");\n",
    "\"\"\"\n",
    "cursor.execute(create_venues_table)"
   ]
  },
  {
   "cell_type": "code",
   "execution_count": null,
   "metadata": {},
   "outputs": [],
   "source": [
    "complexes_insert_query = \"\"\"\n",
    "INSERT INTO Complexes (complex_id, complex_name) \n",
    "VALUES (%s, %s) \n",
    "ON DUPLICATE KEY UPDATE complex_name = VALUES(complex_name);\n",
    "\"\"\"\n",
    "\n",
    "complexes_data = list(df_complexes.itertuples(index=False, name=None))  # Convert DataFrame to list of tuples\n",
    "\n",
    "cursor.executemany(complexes_insert_query, complexes_data)\n",
    "conn.commit()\n",
    "\n",
    "venues_insert_query = \"\"\"\n",
    "INSERT INTO Venues (venue_id, venue_name, city_name, country_name, country_code, timezone, complex_id) \n",
    "VALUES (%s, %s, %s, %s, %s, %s, %s) \n",
    "ON DUPLICATE KEY UPDATE \n",
    "    venue_name = VALUES(venue_name),\n",
    "    city_name = VALUES(city_name),\n",
    "    country_name = VALUES(country_name),\n",
    "    country_code = VALUES(country_code),\n",
    "    timezone = VALUES(timezone),\n",
    "    complex_id = VALUES(complex_id);\n",
    "\"\"\"\n",
    "\n",
    "venues_data = list(df_venues.itertuples(index=False, name=None))  # Convert DataFrame to list of tuples\n",
    "\n",
    "cursor.executemany(venues_insert_query, venues_data)\n",
    "conn.commit()\n"
   ]
  },
  {
   "cell_type": "code",
   "execution_count": null,
   "metadata": {},
   "outputs": [],
   "source": [
    "cursor.execute(\"select * from complexes\")\n",
    "for i in cursor:\n",
    "    print(i)"
   ]
  },
  {
   "cell_type": "code",
   "execution_count": null,
   "metadata": {},
   "outputs": [],
   "source": [
    "conn.commit()\n",
    "cursor.close()\n",
    "conn.close()"
   ]
  }
 ],
 "metadata": {
  "kernelspec": {
   "display_name": "Python 3",
   "language": "python",
   "name": "python3"
  },
  "language_info": {
   "codemirror_mode": {
    "name": "ipython",
    "version": 3
   },
   "file_extension": ".py",
   "mimetype": "text/x-python",
   "name": "python",
   "nbconvert_exporter": "python",
   "pygments_lexer": "ipython3",
   "version": "3.13.1"
  }
 },
 "nbformat": 4,
 "nbformat_minor": 2
}
