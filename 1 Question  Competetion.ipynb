{
 "cells": [
  {
   "cell_type": "code",
   "execution_count": null,
   "metadata": {},
   "outputs": [],
   "source": [
    "import requests\n",
    "\n",
    "url = \"https://api.sportradar.com/tennis/trial/v3/en/competitions.json?api_key=yymk81Bo0odf7J5MSnJ6rDrICbfCUjaQkfmVM7bc\"\n",
    "\n",
    "headers = {\"accept\": \"application/json\"}\n",
    "\n",
    "response = requests.get(url, headers=headers)\n",
    "\n",
    "print(response.text)"
   ]
  },
  {
   "cell_type": "code",
   "execution_count": null,
   "metadata": {},
   "outputs": [],
   "source": [
    "import json\n",
    "data = json.loads(response.text)"
   ]
  },
  {
   "cell_type": "code",
   "execution_count": null,
   "metadata": {},
   "outputs": [],
   "source": [
    "data"
   ]
  },
  {
   "cell_type": "code",
   "execution_count": null,
   "metadata": {},
   "outputs": [],
   "source": [
    "categories = []\n",
    "\n",
    "for i in data.get('competitions', []):\n",
    "    category = i.get('category', {})  # Extract category details safely\n",
    "    category_id = category.get('id')\n",
    "    category_name = category.get('name')\n",
    "\n",
    "    if category_id and category_name:  # Ensure valid data before appending\n",
    "        categories.append({\"category_id\": category_id, \"category_name\": category_name})\n",
    "print(categories)"
   ]
  },
  {
   "cell_type": "code",
   "execution_count": null,
   "metadata": {},
   "outputs": [],
   "source": [
    "print(len(data['competitions']))\n",
    "print(len(categories))"
   ]
  },
  {
   "cell_type": "code",
   "execution_count": null,
   "metadata": {},
   "outputs": [],
   "source": [
    "unique_categories = {i['category_id']: i['category_name'] for i in categories}\n",
    "\n",
    "unique_categories"
   ]
  },
  {
   "cell_type": "code",
   "execution_count": null,
   "metadata": {},
   "outputs": [],
   "source": [
    "competitions = []\n",
    "\n",
    "for i in data.get('competitions', []):  # Get 'competitions' safely\n",
    "    competition_id = i.get('id')\n",
    "    name = i.get('name')\n",
    "    parent_id = i.get('parent_id')  # Might be missing\n",
    "    comp_type = i.get('type')\n",
    "    gender = i.get('gender')\n",
    "\n",
    "    category = i.get('category', {})  # Safely get 'category' dictionary\n",
    "    category_id = category.get('id')  # Get category ID safely\n",
    "\n",
    "    if competition_id and name and category_id:  # Ensure required fields exist\n",
    "        competitions.append([\n",
    "            competition_id, \n",
    "            name, \n",
    "            parent_id, \n",
    "            comp_type, \n",
    "            gender, \n",
    "            category_id\n",
    "        ])\n",
    "competitions\n"
   ]
  },
  {
   "cell_type": "code",
   "execution_count": null,
   "metadata": {},
   "outputs": [],
   "source": [
    "print(len(data['competitions']))\n",
    "print(len(categories))\n",
    "print(len(categories))"
   ]
  },
  {
   "cell_type": "code",
   "execution_count": null,
   "metadata": {},
   "outputs": [],
   "source": [
    "import mysql.connector\n",
    "\n",
    "# Establish connection to MySQL (without specifying database)\n",
    "conn = mysql.connector.connect(\n",
    "    host=\"localhost\",\n",
    "    user=\"root\",\n",
    "    password=\"240996\"\n",
    ")\n",
    "\n",
    "cursor = conn.cursor()\n",
    "\n",
    "cursor.execute(\"DROP DATABASE Tennis_project\")\n",
    "\n",
    "# Step 1: Create Database (if not exists)\n",
    "cursor.execute(\"CREATE DATABASE IF NOT EXISTS Tennis_project\")\n",
    "\n",
    "# Select the newly created database\n",
    "cursor.execute(\"USE Tennis_project\")\n",
    "\n",
    "# Step 2: Create Categories Table\n",
    "create_categories_table = \"\"\"\n",
    "CREATE TABLE IF NOT EXISTS Categories (\n",
    "    category_id VARCHAR(50) PRIMARY KEY,\n",
    "    category_name VARCHAR(100) NOT NULL\n",
    ");\n",
    "\"\"\"\n",
    "\n",
    "# Step 3: Create Competitions Table\n",
    "create_competitions_table = \"\"\"\n",
    "CREATE TABLE IF NOT EXISTS Competitions (\n",
    "    competition_id VARCHAR(50) PRIMARY KEY,\n",
    "    competition_name VARCHAR(100) NOT NULL,\n",
    "    parent_id VARCHAR(50) NULL,\n",
    "    type VARCHAR(20) NOT NULL,\n",
    "    gender VARCHAR(10) NOT NULL,\n",
    "    category_id VARCHAR(50),\n",
    "    FOREIGN KEY (category_id) REFERENCES Categories(category_id) ON DELETE CASCADE\n",
    ");\n",
    "\"\"\"\n",
    "\n",
    "# Execute Queries\n",
    "cursor.execute(create_categories_table)\n",
    "cursor.execute(create_competitions_table)\n",
    "\n",
    "# Commit and close connection\n",
    "conn.commit()\n",
    "cursor.close()\n",
    "conn.close()\n",
    "\n",
    "print(\"Database and tables created successfully!\")"
   ]
  },
  {
   "cell_type": "code",
   "execution_count": null,
   "metadata": {},
   "outputs": [],
   "source": [
    "conn = mysql.connector.connect(\n",
    "    host=\"localhost\",\n",
    "    user=\"root\",  # Replace with your MySQL username\n",
    "    password=\"240996\",  # Replace with your MySQL password\n",
    "    database=\"Tennis_project\"\n",
    "    )\n",
    "\n",
    "cursor = conn.cursor()\n",
    "\n",
    "'''cursor.execute(\"truncate table Categories;\")\n",
    "cursor.execute(\"truncate table Competitions;\")'''\n",
    "\n",
    "# Insert Categories into Database (Avoid Duplicates)\n",
    "for category_id, category_name in unique_categories.items():\n",
    "    cursor.execute(\n",
    "        \"INSERT IGNORE INTO Categories (category_id, category_name) VALUES (%s, %s)\",\n",
    "        (category_id, category_name)\n",
    "    )\n",
    "\n",
    "\n",
    "for each_competition in competitions:\n",
    "    cursor.execute('INSERT INTO Competitions (competition_id, competition_name, parent_id, type, gender, category_id) VALUES (%s, %s, %s, %s, %s, %s)', each_competition)\n",
    "\n",
    "# Commit and close connection\n",
    "conn.commit()\n",
    "cursor.close()\n",
    "conn.close()\n",
    "\n",
    "print(\" Data inserted successfully into Categories & Competitions tables!\")"
   ]
  },
  {
   "cell_type": "code",
   "execution_count": null,
   "metadata": {},
   "outputs": [],
   "source": []
  }
 ],
 "metadata": {
  "kernelspec": {
   "display_name": "Python 3",
   "language": "python",
   "name": "python3"
  },
  "language_info": {
   "codemirror_mode": {
    "name": "ipython",
    "version": 3
   },
   "file_extension": ".py",
   "mimetype": "text/x-python",
   "name": "python",
   "nbconvert_exporter": "python",
   "pygments_lexer": "ipython3",
   "version": "3.13.1"
  }
 },
 "nbformat": 4,
 "nbformat_minor": 2
}
