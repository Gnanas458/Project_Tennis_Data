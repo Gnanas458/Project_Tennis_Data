{
 "cells": [
  {
   "cell_type": "code",
   "execution_count": null,
   "metadata": {},
   "outputs": [],
   "source": [
    "\n",
    "# Connect to MySQL\n",
    "import mysql.connector\n",
    "\n",
    "def sql_connection():\n",
    "    return mysql.connector.connect(\n",
    "        host = \"localhost\",\n",
    "        user = \"root\",\n",
    "        password = \"240996\",\n",
    "        database = \"Tennis_project\"\n",
    "    )\n"
   ]
  },
  {
   "cell_type": "code",
   "execution_count": null,
   "metadata": {},
   "outputs": [],
   "source": [
    "# Execute SQL Query & Print Results\n",
    "def answer(query):\n",
    "    connection = sql_connection()\n",
    "    cursor = connection.cursor()\n",
    "\n",
    "    cursor.execute(query)\n",
    "    results = cursor.fetchall()\n",
    "\n",
    "    if results:\n",
    "        for row in results:\n",
    "            print(row)\n",
    "    else:\n",
    "        print(\" No data found.\")\n",
    "    cursor.close()\n",
    "    connection.close()"
   ]
  },
  {
   "cell_type": "markdown",
   "metadata": {},
   "source": [
    "1st set of questions"
   ]
  },
  {
   "cell_type": "code",
   "execution_count": null,
   "metadata": {},
   "outputs": [],
   "source": [
    "# -- 1)List all competitions along with their category name\n",
    "query = '''select comp.competition_name, cat.category_name from competitions as comp\n",
    " join categories as cat on comp.category_id = cat.category_id;'''\n",
    "answer(query)"
   ]
  },
  {
   "cell_type": "code",
   "execution_count": null,
   "metadata": {},
   "outputs": [],
   "source": [
    "# -- 2)\tCount the number of competitions in each category\n",
    "query = '''select cat.category_name, count(comp.competition_id)as competition_count from competitions as comp\n",
    " join categories as cat on comp.category_id = cat.category_id group by cat.category_name;'''\n",
    "answer(query)"
   ]
  },
  {
   "cell_type": "code",
   "execution_count": null,
   "metadata": {},
   "outputs": [],
   "source": [
    "# -- 3)\tFind all competitions of type 'doubles'\n",
    "query = '''select * from competitions where type = 'doubles';'''\n",
    "answer(query)"
   ]
  },
  {
   "cell_type": "code",
   "execution_count": null,
   "metadata": {},
   "outputs": [],
   "source": [
    "# -- 4)\tGet competitions that belong to a specific category (e.g., ITF Men) used to retrieve \"Wheelchairs Juniors\"\n",
    "query = '''select * from competitions comp join categories as cat on comp.category_id = cat.category_id where cat.category_name = \"Wheelchairs Juniors\";'''\n",
    "answer(query)"
   ]
  },
  {
   "cell_type": "code",
   "execution_count": null,
   "metadata": {},
   "outputs": [],
   "source": [
    "# -- 5)\tIdentify parent competitions and their sub-competitions \n",
    "query = '''select parent.competition_name as parent_competition, child.competition_name as sub_competition from competitions child join competitions parent on child.parent_id = parent.competition_id\n",
    "order by parent_competition, sub_competition;'''\n",
    "answer(query)"
   ]
  },
  {
   "cell_type": "code",
   "execution_count": null,
   "metadata": {},
   "outputs": [],
   "source": [
    "# -- 6)\tAnalyze the distribution of competition types by category\n",
    "query = '''select cat.category_name, comp.type, count(*) as competitions_count from competitions as comp join categories as cat on comp.category_id = cat.category_id\n",
    "group by cat.category_name, comp.type order by cat.category_name, comp.type;'''\n",
    "answer(query)"
   ]
  },
  {
   "cell_type": "code",
   "execution_count": null,
   "metadata": {},
   "outputs": [],
   "source": [
    "# -- 7)\tList all competitions with no parent (top-level competitions);\n",
    "query = '''select competition_name, parent_id from competitions where parent_id is null;'''\n",
    "answer(query)"
   ]
  },
  {
   "cell_type": "markdown",
   "metadata": {},
   "source": [
    "2nd set of questions"
   ]
  },
  {
   "cell_type": "code",
   "execution_count": null,
   "metadata": {},
   "outputs": [],
   "source": [
    "# -- 1)\tList all venues along with their associated complex name\n",
    "query = '''select v.venue_name,v.city_name,v.country_name, c.complex_name from venues as v join complexes as c on v.complex_id = c.complex_id;'''\n",
    "answer(query)"
   ]
  },
  {
   "cell_type": "code",
   "execution_count": null,
   "metadata": {},
   "outputs": [],
   "source": [
    "# -- 2)\tCount the number of venues in each complex\n",
    "query = '''select c.complex_name, count(v.venue_id) from venues as v join complexes as c on  v.complex_id = c.complex_id group by c.complex_name ;'''\n",
    "answer(query)"
   ]
  },
  {
   "cell_type": "code",
   "execution_count": null,
   "metadata": {},
   "outputs": [],
   "source": [
    "# -- 3)\tGet details of venues in a specific country (e.g., Chile)\n",
    "query = '''select country_name, venue_name from venues where country_name = \"Chile\";'''\n",
    "answer(query)"
   ]
  },
  {
   "cell_type": "code",
   "execution_count": null,
   "metadata": {},
   "outputs": [],
   "source": [
    "# -- 4)\tIdentify all venues and their timezones\n",
    "query = '''select venue_name, timezone from venues;'''\n",
    "answer(query)"
   ]
  },
  {
   "cell_type": "code",
   "execution_count": null,
   "metadata": {},
   "outputs": [],
   "source": [
    "# -- 5)\tFind complexes that have more than one venue\n",
    "query = '''select c.complex_id, c.complex_name, count(v.venue_id) from complexes as c join venues as v on c.complex_id = v.complex_id\n",
    " group by complex_id having count(v.venue_id) > 1;'''\n",
    "answer(query)"
   ]
  },
  {
   "cell_type": "code",
   "execution_count": null,
   "metadata": {},
   "outputs": [],
   "source": [
    "# -- 6)\tList venues grouped by country\n",
    "query = '''select country_name, count(venue_name) as total_venue , json_arrayagg(venue_name) as list_of_venues from venues group by country_name;'''\n",
    "answer(query)"
   ]
  },
  {
   "cell_type": "code",
   "execution_count": null,
   "metadata": {},
   "outputs": [],
   "source": [
    "# -- 7)\tFind all venues for a specific complex (e.g., Nacional)\n",
    "query = '''select c.complex_name, v.venue_name, v.city_name, v.country_name from complexes as c join venues as v on c.complex_id = v.complex_id where complex_name = \"Nacional\";'''\n",
    "answer(query)"
   ]
  },
  {
   "cell_type": "markdown",
   "metadata": {},
   "source": [
    "3rd set of questions"
   ]
  },
  {
   "cell_type": "code",
   "execution_count": null,
   "metadata": {},
   "outputs": [],
   "source": [
    "# -- 1)\tGet all competitors with their rank and points.\n",
    "query = '''select c.name, r.player_rank, r.points from competitors as c join rankings as r on c.competitor_id = r.competitor_id;'''\n",
    "answer(query)"
   ]
  },
  {
   "cell_type": "code",
   "execution_count": null,
   "metadata": {},
   "outputs": [],
   "source": [
    "# -- 2)\tFind competitors ranked in the top 5 (used subquery)\n",
    "query = '''select distinct(c.name) from competitors as c where c.competitor_id in (select r.competitor_id from rankings as r where r.player_rank <=5);'''\n",
    "answer(query)"
   ]
  },
  {
   "cell_type": "code",
   "execution_count": null,
   "metadata": {},
   "outputs": [],
   "source": [
    "# -- 3)\tList competitors with no rank movement (stable rank)\n",
    "query = '''select c.name, r.movement from competitors as c join rankings as r on c.competitor_id = r.competitor_id where movement = 0;'''\n",
    "answer(query)"
   ]
  },
  {
   "cell_type": "code",
   "execution_count": null,
   "metadata": {},
   "outputs": [],
   "source": [
    "# -- 4)\tGet the total points of competitors from a specific country (e.g., Croatia)\n",
    "query = '''select c.country, sum(r.points) from competitors as c join rankings as r on c.competitor_id = r.competitor_id where c.country = \"Croatia\" group by c.country;'''\n",
    "answer(query)"
   ]
  },
  {
   "cell_type": "code",
   "execution_count": null,
   "metadata": {},
   "outputs": [],
   "source": [
    "# -- 5)\tCount the number of competitors per country\n",
    "query = '''select country, count(competitor_id) from competitors group by country;'''\n",
    "answer(query)"
   ]
  },
  {
   "cell_type": "code",
   "execution_count": null,
   "metadata": {},
   "outputs": [],
   "source": [
    "# -- 6)\tFind competitors with the highest points in the current week\n",
    "query = '''select c.competitor_id, c.name, r.points from competitors as c join rankings as r on c.competitor_id = r.competitor_id order by r.points desc limit 3;'''\n",
    "answer(query)"
   ]
  }
 ],
 "metadata": {
  "kernelspec": {
   "display_name": "Python 3",
   "language": "python",
   "name": "python3"
  },
  "language_info": {
   "codemirror_mode": {
    "name": "ipython",
    "version": 3
   },
   "file_extension": ".py",
   "mimetype": "text/x-python",
   "name": "python",
   "nbconvert_exporter": "python",
   "pygments_lexer": "ipython3",
   "version": "3.13.1"
  }
 },
 "nbformat": 4,
 "nbformat_minor": 2
}
