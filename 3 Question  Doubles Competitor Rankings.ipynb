{
 "cells": [
  {
   "cell_type": "code",
   "execution_count": null,
   "metadata": {},
   "outputs": [],
   "source": [
    "import requests\n",
    "\n",
    "url = \"https://api.sportradar.com/tennis/trial/v3/en/double_competitors_rankings.json?api_key=yymk81Bo0odf7J5MSnJ6rDrICbfCUjaQkfmVM7bc\"\n",
    "\n",
    "headers = {\"accept\": \"application/json\"}\n",
    "\n",
    "response = requests.get(url, headers=headers)\n",
    "\n",
    "print(response.text)\n"
   ]
  },
  {
   "cell_type": "code",
   "execution_count": null,
   "metadata": {},
   "outputs": [],
   "source": [
    "json_data = response.text\n",
    "\n",
    "json_data"
   ]
  },
  {
   "cell_type": "code",
   "execution_count": null,
   "metadata": {},
   "outputs": [],
   "source": [
    "import pandas as pd\n",
    "import json\n",
    "import mysql.connector\n",
    "\n",
    "# Convert JSON string to a Python dictionary\n",
    "data = json.loads(json_data)\n",
    "\n",
    "# Extract rankings (table 1)\n",
    "df_rankings = pd.json_normalize(data[\"rankings\"], \n",
    "                                record_path=[\"competitor_rankings\"], \n",
    "                                meta=[\"year\", \"week\"], \n",
    "                                record_prefix=\"rank_\")\n",
    "\n",
    "# Extract competitors (table 2)\n",
    "df_competitors = df_rankings[[\"rank_competitor.id\", \"rank_competitor.name\", \n",
    "                              \"rank_competitor.country\", \"rank_competitor.country_code\", \n",
    "                              \"rank_competitor.abbreviation\"]].drop_duplicates()\n",
    "\n",
    "# Rename columns to match SQL table names\n",
    "df_rankings = df_rankings.rename(columns={\n",
    "    \"rank_rank\": \"rank\",\n",
    "    \"rank_movement\": \"movement\",\n",
    "    \"rank_points\": \"points\",\n",
    "    \"rank_competitions_played\": \"competitions_played\",\n",
    "    \"rank_competitor.id\": \"competitor_id\"\n",
    "})\n",
    "\n",
    "df_rankings = df_rankings[[\"rank\", \"movement\", \"points\", \"competitions_played\", \"competitor_id\"]]\n",
    "\n",
    "df_competitors = df_competitors.rename(columns={\n",
    "    \"rank_competitor.id\": \"competitor_id\",\n",
    "    \"rank_competitor.name\": \"name\",\n",
    "    \"rank_competitor.country\": \"country\",\n",
    "    \"rank_competitor.country_code\": \"country_code\",\n",
    "    \"rank_competitor.abbreviation\": \"abbreviation\"\n",
    "})\n",
    "\n"
   ]
  },
  {
   "cell_type": "code",
   "execution_count": null,
   "metadata": {},
   "outputs": [],
   "source": [
    "df_competitors\n"
   ]
  },
  {
   "cell_type": "code",
   "execution_count": null,
   "metadata": {},
   "outputs": [],
   "source": [
    "df_rankings"
   ]
  },
  {
   "cell_type": "code",
   "execution_count": null,
   "metadata": {},
   "outputs": [],
   "source": [
    "neutral_count = (df_competitors['country'] == 'Neutral').sum()\n",
    "neutral_count"
   ]
  },
  {
   "cell_type": "code",
   "execution_count": null,
   "metadata": {},
   "outputs": [],
   "source": [
    "null_count = df_competitors['country_code'].isnull().sum()\n",
    "null_count"
   ]
  },
  {
   "cell_type": "code",
   "execution_count": null,
   "metadata": {},
   "outputs": [],
   "source": [
    "check_NEU_present = (df_competitors['country_code'] == 'NEU').sum()\n",
    "check_NEU_present"
   ]
  },
  {
   "cell_type": "markdown",
   "metadata": {},
   "source": [
    "We are going to replace NEU as country_code where counntrycode is not present, and we chose NEU as keyword since it represents neutral and not a duplicate word"
   ]
  },
  {
   "cell_type": "code",
   "execution_count": null,
   "metadata": {},
   "outputs": [],
   "source": [
    "df_competitors['country_code'].fillna('NEU', inplace=True)\n",
    "df_competitors"
   ]
  },
  {
   "cell_type": "markdown",
   "metadata": {},
   "source": [
    "Now we run the commands to create and insert table to SQL"
   ]
  },
  {
   "cell_type": "code",
   "execution_count": null,
   "metadata": {},
   "outputs": [],
   "source": [
    "import mysql.connector\n",
    "import pandas as pd\n",
    "import numpy as np\n",
    "\n",
    "# Connect to MySQL Database\n",
    "# Establish connection to MySQL \n",
    "conn = mysql.connector.connect(\n",
    "    host=\"localhost\",\n",
    "    user=\"root\",\n",
    "    password=\"240996\",\n",
    "    database=\"Tennis_project\"\n",
    ")\n",
    "\n",
    "cursor = conn.cursor()\n",
    "\n",
    "# Create Tables (Fixed \"rank\" Issue)\n",
    "create_competitors_table = \"\"\"\n",
    "CREATE TABLE IF NOT EXISTS Competitors (\n",
    "    competitor_id VARCHAR(50) PRIMARY KEY,\n",
    "    name VARCHAR(100) NOT NULL,\n",
    "    country VARCHAR(100) NOT NULL,\n",
    "    country_code CHAR(3) NOT NULL,\n",
    "    abbreviation VARCHAR(10) NOT NULL\n",
    ");\n",
    "\"\"\"\n",
    "\n",
    "create_rankings_table = \"\"\"\n",
    "CREATE TABLE IF NOT EXISTS Rankings (\n",
    "    rank_id INT PRIMARY KEY AUTO_INCREMENT,\n",
    "    player_rank INT NOT NULL,  -- FIXED: Changed from 'rank' to 'player_rank'\n",
    "    movement INT NOT NULL,\n",
    "    points INT NOT NULL,\n",
    "    competitions_played INT NOT NULL,\n",
    "    competitor_id VARCHAR(50),\n",
    "    FOREIGN KEY (competitor_id) REFERENCES Competitors(competitor_id)\n",
    ");\n",
    "\"\"\"\n",
    "cursor.execute(\"DROP TABLE IF EXISTS Rankings;\")\n",
    "cursor.execute(\"DROP TABLE IF EXISTS Competitors;\")\n",
    "\n",
    "print(\"Tables dropped before creating\")\n",
    "\n",
    "cursor.execute(create_competitors_table)\n",
    "cursor.execute(create_rankings_table)\n",
    "conn.commit()\n",
    "\n",
    "print(\"Tables created successfully!\")\n",
    "\n",
    "# Handle NaN values before inserting (replace NaN with None)\n",
    "df_competitors = df_competitors.replace({np.nan: None})\n",
    "df_rankings = df_rankings.replace({np.nan: None})\n",
    "\n",
    "# Insert Data into Competitors Table\n",
    "competitor_insert_query = \"\"\"\n",
    "INSERT INTO Competitors (competitor_id, name, country, country_code, abbreviation) \n",
    "VALUES (%s, %s, %s, %s, %s) \n",
    "ON DUPLICATE KEY UPDATE \n",
    "    name = VALUES(name),\n",
    "    country = VALUES(country),\n",
    "    country_code = VALUES(country_code),\n",
    "    abbreviation = VALUES(abbreviation);\n",
    "\"\"\"\n",
    "\n",
    "competitor_data = df_competitors.to_records(index=False).tolist()  # Convert DataFrame to list of tuples\n",
    "cursor.executemany(competitor_insert_query, competitor_data)\n",
    "conn.commit()\n",
    "print(\"Competitors inserted successfully!\")\n",
    "\n",
    "# Insert Data into Rankings Table\n",
    "ranking_insert_query = \"\"\"\n",
    "INSERT INTO Rankings (player_rank, movement, points, competitions_played, competitor_id) \n",
    "VALUES (%s, %s, %s, %s, %s);\n",
    "\"\"\"\n",
    "\n",
    "ranking_data = df_rankings.to_records(index=False).tolist()  # Convert DataFrame to list of tuples\n",
    "cursor.executemany(ranking_insert_query, ranking_data)\n",
    "conn.commit()\n",
    "print(\"Rankings inserted successfully!\")\n",
    "\n",
    "# Close Connection\n",
    "cursor.close()\n",
    "conn.close()\n",
    "print(\"Database connection closed.\")"
   ]
  }
 ],
 "metadata": {
  "kernelspec": {
   "display_name": "Python 3",
   "language": "python",
   "name": "python3"
  },
  "language_info": {
   "codemirror_mode": {
    "name": "ipython",
    "version": 3
   },
   "file_extension": ".py",
   "mimetype": "text/x-python",
   "name": "python",
   "nbconvert_exporter": "python",
   "pygments_lexer": "ipython3",
   "version": "3.13.1"
  }
 },
 "nbformat": 4,
 "nbformat_minor": 2
}
